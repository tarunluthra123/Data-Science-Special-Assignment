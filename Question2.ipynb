{
 "cells": [
  {
   "cell_type": "code",
   "execution_count": 1,
   "metadata": {},
   "outputs": [
    {
     "name": "stderr",
     "output_type": "stream",
     "text": [
      "\n",
      "Attaching package: 'dplyr'\n",
      "\n",
      "\n",
      "The following objects are masked from 'package:stats':\n",
      "\n",
      "    filter, lag\n",
      "\n",
      "\n",
      "The following objects are masked from 'package:base':\n",
      "\n",
      "    intersect, setdiff, setequal, union\n",
      "\n",
      "\n"
     ]
    }
   ],
   "source": [
    "#### Question 2\n",
    "# Download the file Set3.csv and write the correct code for each of the following : [15]\n",
    "# I. Read the contents of the file\n",
    "# II. Count of the number of records\n",
    "# III. View the data in a tabular format\n",
    "# IV. Filter the offences on the basis of Locality (QA only) and Type_of_offence (PHYSICAL OFFENSE only).\n",
    "# V. Group the offences by Zone.\n",
    "# VI. Get a count of the number of records for each group\n",
    "# VII. Using ggplot(), plot a barchart displaying the number of offences in each Zone. (use all the possible parameters)\n",
    "# VIII. Create a new column called Year_of_event containing the only the year of the event\n",
    "# IX. Group the data by year and summarize\n",
    "# X. Plot a barchart with column Year_of_event that displays the number of offences by year\n",
    "# XI. Create another bar chart that displays the number of offences by month instead of year\n",
    "# XII. Group and summarize the data by month.\n",
    "# XIII. Rename the columns to make them more user friendly and view the results\n",
    "# XIV. What’s the need of filtering the data? Show examples using appropriate commands\n",
    "# XV. What other charts can you plot for XI ? Which one will leverage more information and why?( elaborate in comments)\n",
    "\n",
    "\n",
    "\n",
    "library(dplyr)"
   ]
  },
  {
   "cell_type": "code",
   "execution_count": 3,
   "metadata": {},
   "outputs": [],
   "source": [
    "# I. Read the contents of the file\n",
    "df <- read.csv('Set3.csv')"
   ]
  },
  {
   "cell_type": "code",
   "execution_count": 4,
   "metadata": {},
   "outputs": [
    {
     "data": {
      "text/html": [
       "<table class=\"dataframe\">\n",
       "<caption>A data.frame: 1 × 1</caption>\n",
       "<thead>\n",
       "\t<tr><th scope=col>n</th></tr>\n",
       "\t<tr><th scope=col>&lt;int&gt;</th></tr>\n",
       "</thead>\n",
       "<tbody>\n",
       "\t<tr><td>2000</td></tr>\n",
       "</tbody>\n",
       "</table>\n"
      ],
      "text/latex": [
       "A data.frame: 1 × 1\n",
       "\\begin{tabular}{l}\n",
       " n\\\\\n",
       " <int>\\\\\n",
       "\\hline\n",
       "\t 2000\\\\\n",
       "\\end{tabular}\n"
      ],
      "text/markdown": [
       "\n",
       "A data.frame: 1 × 1\n",
       "\n",
       "| n &lt;int&gt; |\n",
       "|---|\n",
       "| 2000 |\n",
       "\n"
      ],
      "text/plain": [
       "  n   \n",
       "1 2000"
      ]
     },
     "metadata": {},
     "output_type": "display_data"
    }
   ],
   "source": [
    "# II. Count of the number of records\n",
    "count(df)"
   ]
  },
  {
   "cell_type": "code",
   "execution_count": 6,
   "metadata": {},
   "outputs": [
    {
     "ename": "ERROR",
     "evalue": "Error in view(df): could not find function \"view\"\n",
     "output_type": "error",
     "traceback": [
      "Error in view(df): could not find function \"view\"\nTraceback:\n"
     ]
    }
   ],
   "source": [
    "# III. View the data in a tabular format\n",
    "view(df)"
   ]
  },
  {
   "cell_type": "code",
   "execution_count": null,
   "metadata": {},
   "outputs": [],
   "source": []
  }
 ],
 "metadata": {
  "kernelspec": {
   "display_name": "R",
   "language": "R",
   "name": "ir"
  },
  "language_info": {
   "codemirror_mode": "r",
   "file_extension": ".r",
   "mimetype": "text/x-r-source",
   "name": "R",
   "pygments_lexer": "r",
   "version": "4.0.3"
  }
 },
 "nbformat": 4,
 "nbformat_minor": 4
}
